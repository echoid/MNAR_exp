{
 "cells": [
  {
   "cell_type": "code",
   "execution_count": 7,
   "metadata": {},
   "outputs": [],
   "source": [
    "import numpy as np\n",
    "from sklearn.impute import SimpleImputer\n",
    "import sys\n",
    "sys.path.append(\"..\")\n",
    "import pickle\n",
    "import numpy as np\n",
    "import pandas as pd\n",
    "from tqdm import tqdm\n",
    "import sys\n",
    "from scipy import optimize\n",
    "from torch.utils.data import DataLoader, Dataset\n",
    "import missing_process.missing_method as missing_method\n",
    "from missing_process.block_rules import *\n",
    "import json\n",
    "import matplotlib.pyplot as plt\n",
    "import seaborn as sns\n",
    "from scipy import stats\n"
   ]
  },
  {
   "cell_type": "code",
   "execution_count": 24,
   "metadata": {},
   "outputs": [],
   "source": [
    "real_datalist = [\"banknote\",\"concrete_compression\",\n",
    "            \"wine_quality_white\",\"wine_quality_red\",\n",
    "            \"california\",\"climate_model_crashes\",\n",
    "            \"connectionist_bench_sonar\",\"qsar_biodegradation\",\n",
    "            \"yeast\",\"yacht_hydrodynamics\"\n",
    "            ]\n",
    "#real_datalist = [\"yacht_hydrodynamics\"]\n",
    "\n",
    "syn_datalist = [\"syn1\"]\n",
    "\n",
    "\n",
    "missingtypelist = [\"quantile\",\"diffuse\",\"logistic\"]\n",
    "#missingtypelist = [\"diffuse\"]"
   ]
  },
  {
   "cell_type": "code",
   "execution_count": 3,
   "metadata": {},
   "outputs": [],
   "source": [
    "def load_train_test(dataname,missingtype,rule_name,seed = 1):  \n",
    "            \n",
    "    directory_path = f\"../datasets/{dataname}\"  \n",
    "    # Opening JSON file\n",
    "    f = open(f'{directory_path}/split_index_seed-{seed}.json')\n",
    "    data = json.load(f)\n",
    "\n",
    "    train_index = data[\"train_index\"]\n",
    "    test_index = data[\"test_index\"]\n",
    "\n",
    "    norm_values = np.load(f'{directory_path}/{dataname}_norm.npy')\n",
    "    observed_masks = np.load(f'{directory_path}/{missingtype}/{rule_name}.npy')\n",
    "\n",
    "    train_values = norm_values[train_index,:]\n",
    "\n",
    "    train_masks = observed_masks[train_index,:]\n",
    "\n",
    "    test_values = norm_values[test_index,:]\n",
    "\n",
    "    test_masks = observed_masks[test_index,:]\n",
    "\n",
    "    return train_values,train_masks,test_values,test_masks\n",
    "    "
   ]
  },
  {
   "cell_type": "code",
   "execution_count": 38,
   "metadata": {},
   "outputs": [],
   "source": [
    "def mean_imp(missingtypelist,datalist_name):\n",
    "\n",
    "\n",
    "    if datalist_name == \"real\":\n",
    "        datalist = real_datalist\n",
    "    elif datalist_name == \"syn\":\n",
    "        datalist = syn_datalist\n",
    "\n",
    "    for missingtype in missingtypelist:\n",
    "        print(missingtype)\n",
    "        if missingtype == \"logistic\":\n",
    "            missing_rule = load_json_file(\"missing_rate.json\")\n",
    "        elif missingtype == \"diffuse\":\n",
    "            missing_rule = load_json_file(\"diffuse_ratio.json\")\n",
    "        elif missingtype == \"quantile\":\n",
    "            missing_rule = load_json_file(\"quantile_full.json\")\n",
    "\n",
    "\n",
    "\n",
    "        for dataname in datalist:\n",
    "            path = f\"../impute/{missingtype}/{dataname}/Mean\"\n",
    "            if not os.path.exists(path):\n",
    "                # If the path does not exist, create it\n",
    "                os.makedirs(path)\n",
    "\n",
    "            for rule_name in missing_rule:\n",
    "                train_values,train_masks,test_values,test_masks = load_train_test(dataname,missingtype,rule_name,seed = 1)\n",
    "\n",
    "                train_values_na = np.where(train_masks == 0, np.nan, train_values)\n",
    "                test_values_na = np.where(test_masks == 0, np.nan, test_values)\n",
    "                \n",
    "                imp_mean = SimpleImputer(missing_values=np.nan, strategy='mean')\n",
    "                imp_mean.fit(train_values_na)\n",
    "                test_imp = imp_mean.transform(test_values_na)\n",
    "                np.save(f'{path}/{rule_name}_train.npy', test_imp.astype(\"float32\"))\n",
    "                np.save(f'{path}/{rule_name}_test.npy', test_imp.astype(\"float32\"))\n",
    "\n",
    "\n",
    "            "
   ]
  },
  {
   "cell_type": "code",
   "execution_count": 39,
   "metadata": {},
   "outputs": [
    {
     "name": "stdout",
     "output_type": "stream",
     "text": [
      "quantile\n",
      "diffuse\n",
      "logistic\n"
     ]
    }
   ],
   "source": [
    "mean_imp(missingtypelist,\"syn\")"
   ]
  },
  {
   "cell_type": "code",
   "execution_count": null,
   "metadata": {},
   "outputs": [],
   "source": []
  }
 ],
 "metadata": {
  "kernelspec": {
   "display_name": "py3.10",
   "language": "python",
   "name": "python3"
  },
  "language_info": {
   "codemirror_mode": {
    "name": "ipython",
    "version": 3
   },
   "file_extension": ".py",
   "mimetype": "text/x-python",
   "name": "python",
   "nbconvert_exporter": "python",
   "pygments_lexer": "ipython3",
   "version": "3.10.10"
  }
 },
 "nbformat": 4,
 "nbformat_minor": 2
}
