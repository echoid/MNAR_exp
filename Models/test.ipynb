{
 "cells": [
  {
   "cell_type": "code",
   "execution_count": 1,
   "metadata": {},
   "outputs": [],
   "source": [
    "import numpy as np \n",
    "\n",
    "from MissingImputer import MissingImputer"
   ]
  },
  {
   "cell_type": "code",
   "execution_count": 2,
   "metadata": {},
   "outputs": [],
   "source": [
    "X = np.array([\n",
    "    [3,0, np.nan, np.nan],  # odd: implicit zero\n",
    "    [2,5, np.nan, np.nan],  # odd: explicit nonzero\n",
    "    [7,0, 0, np.nan],    # even: average two zeros\n",
    "    [8,-5, 0, np.nan],   # even: avg zero and neg\n",
    "    [2,0, 5, np.nan],    # even: avg zero and pos\n",
    "    [1,4, 5, np.nan],    # even: avg nonzeros\n",
    "    [-3,-4, -5, np.nan],  # even: avg negatives\n",
    "    [0,-1, 2, np.nan],   # even: crossing neg and pos\n",
    "]).transpose()"
   ]
  },
  {
   "cell_type": "code",
   "execution_count": 3,
   "metadata": {},
   "outputs": [
    {
     "data": {
      "text/plain": [
       "<MissingImputer.MissingImputer at 0x298c2662560>"
      ]
     },
     "execution_count": 3,
     "metadata": {},
     "output_type": "execute_result"
    }
   ],
   "source": [
    "MissImputer = MissingImputer(ini_fill = True, model_reg = \"knn\", model_clf = \"knn\")\n",
    "MissImputer"
   ]
  },
  {
   "cell_type": "code",
   "execution_count": 4,
   "metadata": {},
   "outputs": [
    {
     "name": "stdout",
     "output_type": "stream",
     "text": [
      "[[ 3.  2.  7.  8.  2.  1. -3.  0.]\n",
      " [ 0.  5.  0. -5.  0.  4. -4. -1.]\n",
      " [ 0.  5.  0.  0.  5.  5. -5.  2.]\n",
      " [ 0.  5.  0.  0.  5.  5. -5.  2.]]\n"
     ]
    }
   ],
   "source": [
    "X_trans = MissImputer.fit(X, model_params = {'regressor':{'n_neighbors':1}, 'classifier':{}}).transform(X.copy())"
   ]
  },
  {
   "cell_type": "code",
   "execution_count": null,
   "metadata": {},
   "outputs": [],
   "source": [
    "X_trans"
   ]
  },
  {
   "cell_type": "code",
   "execution_count": null,
   "metadata": {},
   "outputs": [],
   "source": [
    "MissImputer = MissingImputer(ini_fill = True, model_reg = \"xgboost\", model_clf = \"xgboost\")\n",
    "MissImputer"
   ]
  },
  {
   "cell_type": "code",
   "execution_count": null,
   "metadata": {},
   "outputs": [],
   "source": [
    "X_trans = MissImputer.fit(X).transform(X.copy())"
   ]
  },
  {
   "cell_type": "code",
   "execution_count": null,
   "metadata": {},
   "outputs": [],
   "source": [
    "print(X_trans)"
   ]
  },
  {
   "cell_type": "code",
   "execution_count": null,
   "metadata": {},
   "outputs": [],
   "source": [
    "MissImputer = MissingImputer(max_iter = 6, ini_fill = True, model_reg = \"randomforest\", model_clf = \"randomforest\")\n",
    "MissImputer"
   ]
  },
  {
   "cell_type": "code",
   "execution_count": null,
   "metadata": {},
   "outputs": [],
   "source": [
    "X_trans = MissImputer.fit(X).transform(X.copy())"
   ]
  },
  {
   "cell_type": "code",
   "execution_count": null,
   "metadata": {},
   "outputs": [],
   "source": [
    "X_trans"
   ]
  }
 ],
 "metadata": {
  "kernelspec": {
   "display_name": "Python 3",
   "language": "python",
   "name": "python3"
  },
  "language_info": {
   "codemirror_mode": {
    "name": "ipython",
    "version": 3
   },
   "file_extension": ".py",
   "mimetype": "text/x-python",
   "name": "python",
   "nbconvert_exporter": "python",
   "pygments_lexer": "ipython3",
   "version": "3.10.10"
  }
 },
 "nbformat": 4,
 "nbformat_minor": 2
}
