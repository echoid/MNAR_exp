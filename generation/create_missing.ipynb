{
 "cells": [
  {
   "cell_type": "code",
   "execution_count": 1,
   "metadata": {},
   "outputs": [],
   "source": [
    "import sys\n",
    "sys.path.append(\"..\")\n",
    "import pickle\n",
    "import numpy as np\n",
    "import pandas as pd\n",
    "from tqdm import tqdm\n",
    "import sys\n",
    "from scipy import optimize\n",
    "from torch.utils.data import DataLoader, Dataset\n",
    "from data_loaders import *\n",
    "import missing_process.missing_method as missing_method\n",
    "from missing_process.block_rules import *\n",
    "import json\n",
    "import matplotlib.pyplot as plt\n",
    "import seaborn as sns\n",
    "from scipy import stats"
   ]
  },
  {
   "cell_type": "code",
   "execution_count": 2,
   "metadata": {},
   "outputs": [],
   "source": [
    "real_datalist = [\"banknote\",\"concrete_compression\",\n",
    "            \"wine_quality_white\",\"wine_quality_red\",\n",
    "            \"california\",\"climate_model_crashes\",\n",
    "            \"connectionist_bench_sonar\",\"qsar_biodegradation\",\n",
    "            \"yeast\",\"yacht_hydrodynamics\"\n",
    "            ]\n",
    "#real_datalist = [\"yacht_hydrodynamics\"]\n",
    "\n",
    "syn_datalist = [\"syn1\"]\n",
    "\n",
    "\n",
    "missingtypelist = [\"quantile\",\"diffuse\",\"logistic\"]\n",
    "#missingtypelist = [\"diffuse\"]"
   ]
  },
  {
   "cell_type": "code",
   "execution_count": 6,
   "metadata": {},
   "outputs": [],
   "source": [
    "def create_missing(missingtypelist,datalist_name):\n",
    "    '''\n",
    "    Create Mask npy\n",
    "    Save missing \n",
    "    '''\n",
    "    \n",
    "\n",
    "    if datalist_name == \"real\":\n",
    "        datalist = real_datalist\n",
    "    elif datalist_name == \"syn\":\n",
    "        datalist = syn_datalist\n",
    "\n",
    "    for missingtype in missingtypelist:\n",
    "        if missingtype == \"logistic\":\n",
    "            missing_rule = load_json_file(\"missing_rate.json\")\n",
    "        elif missingtype == \"diffuse\":\n",
    "            missing_rule = load_json_file(\"diffuse_ratio.json\")\n",
    "        elif missingtype == \"quantile\":\n",
    "            missing_rule = load_json_file(\"quantile_full.json\")\n",
    "\n",
    "\n",
    "        missing_rate_d = {}\n",
    "\n",
    "        for dataname in datalist:\n",
    "            directory_path = f\"../datasets/{dataname}\"    \n",
    "            norm_values = np.load(f'{directory_path}/{dataname}_norm.npy')\n",
    "\n",
    "            print(dataname)\n",
    "            missing_rate_d[dataname] = []\n",
    "\n",
    "                # Check if the directory exists\n",
    "            if not os.path.exists(f'{directory_path}/{missingtype}'):\n",
    "                os.makedirs(f'{directory_path}/{missingtype}')\n",
    "            else:\n",
    "                pass\n",
    "            \n",
    "            for rule_name in missing_rule:\n",
    "\n",
    "                rule = missing_rule[rule_name]\n",
    "                # try:\n",
    "                #     create_mask(norm_values,missingtype,rule)\n",
    "                # except:\n",
    "                #     print(dataname,missingtype)\n",
    "                \n",
    "                observed_masks = create_mask(norm_values,missingtype,rule)\n",
    "\n",
    "                np.save(f'{directory_path}/{missingtype}/{rule_name}.npy', observed_masks)\n",
    "\n",
    "\n",
    "                missing_rate = 1 - np.count_nonzero(observed_masks) / observed_masks.size\n",
    "                #print(rule_name,missing_rate)\n",
    "\n",
    "                missing_rate_d[dataname].append(missing_rate)\n",
    "\n",
    "        df = pd.DataFrame.from_dict(missing_rate_d)\n",
    "        df.index = [rule_name for rule_name in missing_rule]\n",
    "        \n",
    "        df.to_csv(f\"../datasets/{datalist_name}_{missingtype}_missing_rate.csv\")"
   ]
  },
  {
   "cell_type": "code",
   "execution_count": 8,
   "metadata": {},
   "outputs": [
    {
     "name": "stdout",
     "output_type": "stream",
     "text": [
      "banknote\n",
      "concrete_compression\n",
      "wine_quality_white\n"
     ]
    },
    {
     "name": "stderr",
     "output_type": "stream",
     "text": [
      "C:\\Users\\Epochoid\\AppData\\Local\\Temp\\ipykernel_37608\\2080298773.py:15: DeprecationWarning: `np.float` is a deprecated alias for the builtin `float`. To silence this warning, use `float` by itself. Doing this will not modify any behavior and is safe. If you specifically wanted the numpy scalar type, use `np.float64` here.\n",
      "Deprecated in NumPy 1.20; for more details and guidance: https://numpy.org/devdocs/release/1.20.0-notes.html#deprecations\n",
      "  masks = np.array(~np.isnan(Xnan), dtype=np.float)\n"
     ]
    },
    {
     "name": "stdout",
     "output_type": "stream",
     "text": [
      "wine_quality_red\n",
      "california\n",
      "climate_model_crashes\n",
      "connectionist_bench_sonar\n",
      "qsar_biodegradation\n",
      "yeast\n",
      "yacht_hydrodynamics\n",
      "banknote\n",
      "concrete_compression\n",
      "wine_quality_white\n",
      "wine_quality_red\n",
      "california\n",
      "climate_model_crashes\n",
      "connectionist_bench_sonar\n",
      "qsar_biodegradation\n",
      "yeast\n",
      "yacht_hydrodynamics\n",
      "banknote\n",
      "concrete_compression\n",
      "wine_quality_white\n",
      "wine_quality_red\n",
      "california\n",
      "climate_model_crashes\n",
      "connectionist_bench_sonar\n",
      "qsar_biodegradation\n",
      "yeast\n",
      "yacht_hydrodynamics\n"
     ]
    }
   ],
   "source": [
    "create_missing(missingtypelist,\"real\")"
   ]
  },
  {
   "cell_type": "code",
   "execution_count": 9,
   "metadata": {},
   "outputs": [],
   "source": [
    "def create_mask(observed_values,missing_type = \"MCAR\",\n",
    "                  missing_para = None):\n",
    "\n",
    "    observed_masks = ~np.isnan(observed_values.astype(\"float32\"))\n",
    "    masks = observed_masks.copy().astype(\"float32\")\n",
    "\n",
    "\n",
    "    \"Need input origin dataset and parameters\"\n",
    "    if missing_type == \"MCAR\":\n",
    "        masks = missing_method.MCAR(observed_values,0.2,masks)\n",
    "\n",
    "\n",
    "    elif missing_type == \"quantile\":\n",
    "        Xnan, Xz = missing_method.missing_by_range(observed_values, missing_para)\n",
    "        masks = np.array(~np.isnan(Xnan), dtype=np.float)\n",
    "\n",
    "    elif missing_type == \"logistic\":\n",
    "        masks = missing_method.MNAR_mask_logistic(observed_values, missing_para)\n",
    "\n",
    "    elif missing_type == \"diffuse\":\n",
    "        masks =  missing_method.diffuse_mnar_single(observed_values, missing_para[0],missing_para[1])\n",
    "\n",
    "    observed_masks = masks.astype(int)\n",
    "\n",
    "\n",
    "    return observed_masks\n",
    "\n"
   ]
  },
  {
   "cell_type": "code",
   "execution_count": null,
   "metadata": {},
   "outputs": [],
   "source": []
  }
 ],
 "metadata": {
  "kernelspec": {
   "display_name": "py3.10",
   "language": "python",
   "name": "python3"
  },
  "language_info": {
   "codemirror_mode": {
    "name": "ipython",
    "version": 3
   },
   "file_extension": ".py",
   "mimetype": "text/x-python",
   "name": "python",
   "nbconvert_exporter": "python",
   "pygments_lexer": "ipython3",
   "version": "3.10.10"
  }
 },
 "nbformat": 4,
 "nbformat_minor": 2
}
