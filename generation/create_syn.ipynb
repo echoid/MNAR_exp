{
 "cells": [
  {
   "cell_type": "code",
   "execution_count": 1,
   "metadata": {},
   "outputs": [],
   "source": [
    "import numpy as np\n",
    "import matplotlib.pyplot as plt\n",
    "from sklearn.metrics.pairwise import linear_kernel\n",
    "import pandas as pd\n",
    "\n",
    "import sys\n",
    "sys.path.append(\"..\")\n",
    "import pickle\n",
    "from tqdm import tqdm\n",
    "import sys\n",
    "from scipy import optimize\n",
    "from data_loaders import *\n",
    "import missing_process.missing_method as missing_method\n",
    "from missing_process.block_rules import *\n",
    "import json\n",
    "import matplotlib.pyplot as plt\n",
    "import seaborn as sns\n",
    "from scipy import stats\n",
    "plt.rcParams['text.usetex'] = False"
   ]
  },
  {
   "cell_type": "code",
   "execution_count": 3,
   "metadata": {},
   "outputs": [],
   "source": [
    "import numpy as np\n",
    "from sklearn.preprocessing import PolynomialFeatures, FunctionTransformer\n",
    "from sklearn.pipeline import make_pipeline\n",
    "\n",
    "def basis_expansion(X):\n",
    "\n",
    "    # Polynomial Features up to degree 2\n",
    "    poly = PolynomialFeatures(degree=3, include_bias=True)\n",
    "    X_poly = poly.fit_transform(X)\n",
    "\n",
    "    # Circular functions: sine and cosine\n",
    "    X_sin = np.sin(X)\n",
    "    X_cos = np.cos(X)\n",
    "\n",
    "    # Logarithmic Transformation\n",
    "    log_transformer = FunctionTransformer(np.log1p, validate=True)\n",
    "    X_log = log_transformer.fit_transform(X)\n",
    "\n",
    "    # Square Root Transformation\n",
    "    sqrt_transformer = FunctionTransformer(np.sqrt, validate=True)\n",
    "    X_sqrt = sqrt_transformer.fit_transform(X)\n",
    "\n",
    "    # Exponential Transformation\n",
    "    X_exp = np.exp(X)\n",
    "\n",
    "    # Gaussian Transformation\n",
    "    def gaussian_basis(X):\n",
    "        return np.exp(-X ** 2)\n",
    "\n",
    "    gaussian_transformer = FunctionTransformer(gaussian_basis, validate=True)\n",
    "    X_gaussian = gaussian_transformer.fit_transform(X)\n",
    "\n",
    "    # Sigmoid Transformation\n",
    "    def sigmoid_basis(X):\n",
    "        return 1 / (1 + np.exp(-X))\n",
    "\n",
    "    sigmoid_transformer = FunctionTransformer(sigmoid_basis, validate=True)\n",
    "    X_sigmoid = sigmoid_transformer.fit_transform(X)\n",
    "\n",
    "    # Custom Basis Function sin+cos\n",
    "    def custom_basis(X):\n",
    "        return np.sin(X) + np.cos(X)\n",
    "\n",
    "    custom_transformer = FunctionTransformer(custom_basis, validate=True)\n",
    "    X_custom = custom_transformer.fit_transform(X)\n",
    "\n",
    "    # Concatenate original feature with expanded features\n",
    "    X_concatenated = np.hstack((X, X_poly, X_sin, X_cos, X_log, X_sqrt, X_exp, X_gaussian, X_sigmoid, X_custom))\n",
    "\n",
    "    # Check the shape of the concatenated data\n",
    "    return X_concatenated"
   ]
  },
  {
   "cell_type": "code",
   "execution_count": 116,
   "metadata": {},
   "outputs": [],
   "source": [
    "def check_path(directory):\n",
    "    if not os.path.exists(directory):\n",
    "        # If it doesn't exist, create it\n",
    "        os.makedirs(directory)\n",
    "        print(f\"Directory '{directory}' created successfully.\")\n",
    "    else:\n",
    "        print(f\"Directory '{directory}' already exists.\")"
   ]
  },
  {
   "cell_type": "code",
   "execution_count": 6,
   "metadata": {},
   "outputs": [],
   "source": [
    "def scatter_plot(sorted_values):\n",
    "        # Plot\n",
    "    plt.figure(figsize=(8, 6))\n",
    "    plt.plot(range(len(sorted_values)), sorted_values)\n",
    "    plt.title('Sorted Values from Calith 7th Column')\n",
    "    plt.xlabel('Sorted Index')\n",
    "    plt.ylabel('Values')\n",
    "    plt.grid(True)\n",
    "    plt.show()\n",
    "\n",
    "def create_feature_expansion(missingtype = \"test_MNAR_1\",dataname = \"california\"):\n",
    "    save_name = dataname+\"_exp\"\n",
    "    if missingtype == \"test_MNAR_1\":    \n",
    "        missing_rule = load_json_file(f\"{missingtype}.json\")\n",
    "        missingtype = \"logistic\"\n",
    "        print(\"logistic\")\n",
    "    else:\n",
    "        missing_rule = load_json_file(f\"{missingtype}.json\")\n",
    "        missingtype = \"quantile\"\n",
    "\n",
    "\n",
    "    directory_path = f\"../datasets/{dataname}\" \n",
    "    save_path =  f\"../datasets/{save_name}\"\n",
    "    norm_values = np.load(f'{directory_path}/{dataname}_norm.npy')\n",
    "\n",
    "    for i in range(norm_values.shape[1]):\n",
    "        if i != 6:\n",
    "\n",
    "        target_column = norm_values[:, i].reshape(-1, 1)\n",
    "        expanded_target = basis_expansion(target_column)\n",
    "\n",
    "        # # Split array1 into two parts based on the insertion column\n",
    "        # array_left = norm_values[:, :6]\n",
    "        # array_right = norm_values[:, 6:]\n",
    "\n",
    "        # Insert array2 between the two parts\n",
    "        result = np.hstack((norm_values,expanded_target))\n",
    "    print(result)\n",
    "    check_path(save_path )\n",
    "    np.save(f'{save_path}/{save_name}_norm.npy', result)\n",
    "    #print(result.shape)\n",
    "\n",
    "    #return target_column\n",
    "\n",
    "    # for missingtype in missing_list.keys():\n",
    "    #     missing_rule = missing_list[missingtype]\n",
    "    #     #print(missingtype,missing_rule)\n",
    "\n",
    "    print(missing_rule)\n",
    "    for rule_name in missing_rule:\n",
    "        #print(rule_name)\n",
    "        rule = missing_rule[rule_name]\n",
    "        \n",
    "        observed_masks = np.load(f'{directory_path}/{missingtype}/{rule_name}.npy')\n",
    "\n",
    "        for i in range(norm_values.shape[1]):\n",
    "            if i != 6:\n",
    "\n",
    "        mask_left = observed_masks[:, :6]\n",
    "        mask_right = observed_masks[:, 6:]\n",
    "        target_mask = np.hstack([observed_masks[:, 6].reshape(-1, 1)] * expanded_target.shape[1])\n",
    "        result_mask = np.hstack((mask_left, target_mask, mask_right))\n",
    "        check_path(f'{save_path}/{missingtype}')\n",
    "        print(result_mask.shape)\n",
    "        np.save(f'{save_path}/{missingtype}/{rule_name}.npy', result_mask)\n",
    "\n"
   ]
  },
  {
   "cell_type": "code",
   "execution_count": 7,
   "metadata": {},
   "outputs": [
    {
     "name": "stdout",
     "output_type": "stream",
     "text": [
      "logistic\n",
      "[[0.5674814  1.         0.5674814  ... 0.7246726  0.63818187 1.3807673 ]\n",
      " [0.56535596 1.         0.56535596 ... 0.7264196  0.6376909  1.3801143 ]\n",
      " [0.564293   1.         0.564293   ... 0.72729236 0.6374453  1.3797855 ]\n",
      " ...\n",
      " [0.7321997  1.         0.7321997  ... 0.5850158  0.6752878  1.4122128 ]\n",
      " [0.7321997  1.         0.7321997  ... 0.5850158  0.6752878  1.4122128 ]\n",
      " [0.7258234  1.         0.7258234  ... 0.59047997 0.6738881  1.4117048 ]]\n"
     ]
    },
    {
     "ename": "NameError",
     "evalue": "name 'check_path' is not defined",
     "output_type": "error",
     "traceback": [
      "\u001b[1;31m---------------------------------------------------------------------------\u001b[0m",
      "\u001b[1;31mNameError\u001b[0m                                 Traceback (most recent call last)",
      "Cell \u001b[1;32mIn[7], line 1\u001b[0m\n\u001b[1;32m----> 1\u001b[0m \u001b[43mcreate_feature_expansion\u001b[49m\u001b[43m(\u001b[49m\u001b[43mmissingtype\u001b[49m\u001b[43m \u001b[49m\u001b[38;5;241;43m=\u001b[39;49m\u001b[43m \u001b[49m\u001b[38;5;124;43m\"\u001b[39;49m\u001b[38;5;124;43mtest_MNAR_1\u001b[39;49m\u001b[38;5;124;43m\"\u001b[39;49m\u001b[43m)\u001b[49m\n",
      "Cell \u001b[1;32mIn[6], line 36\u001b[0m, in \u001b[0;36mcreate_feature_expansion\u001b[1;34m(missingtype, dataname)\u001b[0m\n\u001b[0;32m     34\u001b[0m result \u001b[38;5;241m=\u001b[39m np\u001b[38;5;241m.\u001b[39mhstack((array_left, expanded_target, array_right))\n\u001b[0;32m     35\u001b[0m \u001b[38;5;28mprint\u001b[39m(expanded_target)\n\u001b[1;32m---> 36\u001b[0m \u001b[43mcheck_path\u001b[49m(save_path )\n\u001b[0;32m     37\u001b[0m np\u001b[38;5;241m.\u001b[39msave(\u001b[38;5;124mf\u001b[39m\u001b[38;5;124m'\u001b[39m\u001b[38;5;132;01m{\u001b[39;00msave_path\u001b[38;5;132;01m}\u001b[39;00m\u001b[38;5;124m/\u001b[39m\u001b[38;5;132;01m{\u001b[39;00msave_name\u001b[38;5;132;01m}\u001b[39;00m\u001b[38;5;124m_norm.npy\u001b[39m\u001b[38;5;124m'\u001b[39m, result)\n\u001b[0;32m     38\u001b[0m \u001b[38;5;66;03m#print(result.shape)\u001b[39;00m\n\u001b[0;32m     39\u001b[0m \n\u001b[0;32m     40\u001b[0m \u001b[38;5;66;03m#return target_column\u001b[39;00m\n\u001b[1;32m   (...)\u001b[0m\n\u001b[0;32m     43\u001b[0m \u001b[38;5;66;03m#     missing_rule = missing_list[missingtype]\u001b[39;00m\n\u001b[0;32m     44\u001b[0m \u001b[38;5;66;03m#     #print(missingtype,missing_rule)\u001b[39;00m\n",
      "\u001b[1;31mNameError\u001b[0m: name 'check_path' is not defined"
     ]
    }
   ],
   "source": [
    "create_feature_expansion(missingtype = \"test_MNAR_1\")"
   ]
  },
  {
   "cell_type": "code",
   "execution_count": 62,
   "metadata": {},
   "outputs": [],
   "source": [
    "\n"
   ]
  },
  {
   "cell_type": "code",
   "execution_count": 69,
   "metadata": {},
   "outputs": [
    {
     "data": {
      "text/plain": [
       "(20640, 13)"
      ]
     },
     "execution_count": 69,
     "metadata": {},
     "output_type": "execute_result"
    }
   ],
   "source": []
  },
  {
   "cell_type": "code",
   "execution_count": 70,
   "metadata": {},
   "outputs": [
    {
     "data": {
      "text/plain": [
       "(20640, 1)"
      ]
     },
     "execution_count": 70,
     "metadata": {},
     "output_type": "execute_result"
    }
   ],
   "source": []
  }
 ],
 "metadata": {
  "kernelspec": {
   "display_name": "Python 3",
   "language": "python",
   "name": "python3"
  },
  "language_info": {
   "codemirror_mode": {
    "name": "ipython",
    "version": 3
   },
   "file_extension": ".py",
   "mimetype": "text/x-python",
   "name": "python",
   "nbconvert_exporter": "python",
   "pygments_lexer": "ipython3",
   "version": "3.10.13"
  }
 },
 "nbformat": 4,
 "nbformat_minor": 2
}
