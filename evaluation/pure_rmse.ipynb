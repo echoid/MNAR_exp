{
 "cells": [
  {
   "cell_type": "code",
   "execution_count": 4,
   "metadata": {},
   "outputs": [],
   "source": [
    "import numpy as np \n",
    "import pandas as pd\n",
    "import matplotlib.pyplot as plt\n",
    "import seaborn as sns\n",
    "import os"
   ]
  },
  {
   "cell_type": "code",
   "execution_count": 5,
   "metadata": {},
   "outputs": [],
   "source": [
    "def split_mean_std(dataframe):\n",
    "    mean_df = dataframe.copy()\n",
    "    std_df = dataframe.copy()\n",
    "\n",
    "    for col in dataframe.columns:\n",
    "        if col != 'index':\n",
    "            mean_df[col] = dataframe[col].apply(lambda x: float(x.split(' ± ')[0]))\n",
    "            std_df[col] = dataframe[col].apply(lambda x: float(x.split(' ± ')[1]))\n",
    "\n",
    "    return mean_df,std_df\n"
   ]
  },
  {
   "cell_type": "markdown",
   "metadata": {},
   "source": [
    "## RMSE"
   ]
  },
  {
   "cell_type": "code",
   "execution_count": 1,
   "metadata": {},
   "outputs": [],
   "source": [
    "real_datalist = [\n",
    "     \"banknote\",\"concrete_compression\",\n",
    "            \"wine_quality_white\",\n",
    "            \"wine_quality_red\",\n",
    "            \"california\",\n",
    "            \"climate_model_crashes\",\n",
    "            \"connectionist_bench_sonar\",\"qsar_biodegradation\",\n",
    "            \"yeast\",\"yacht_hydrodynamics\"\n",
    "            ]\n",
    "\n",
    "\n",
    "missing_type = \"quantile\"\n",
    "missing_type = \"diffuse\"\n",
    "missing_type = \"logistic\"\n",
    "missing_type = \"mar\"\n",
    "missing_type = \"mcar\"\n",
    "modellist = [\"random\", \"zero\", \"mean\", \"knn\", \"mf\", \"mice\", \"missforest\", \"XGB\", \"ot\", \"hyper\", \"gain\", \"miwae\", \"notmiwae\", \"tabcsdi\"]\n",
    "\n"
   ]
  },
  {
   "cell_type": "code",
   "execution_count": 2,
   "metadata": {},
   "outputs": [],
   "source": [
    "def make_rmse_list(missing_type,datalist,modellist):\n",
    "    train_list = []\n",
    "    test_list = []\n",
    "    for dataname in datalist:\n",
    "        train_df = pd.DataFrame()\n",
    "        test_df = pd.DataFrame()\n",
    "        for model in modellist:\n",
    "            path = f\"../results/{missing_type}/{dataname}\"\n",
    "            try:\n",
    "                data = pd.read_csv(f\"{path}/{model}/{missing_type}_RMSE.csv\",index_col=0)\n",
    "                train_df[f'{model}'] = round(data['train_rmse_mean'],5)\n",
    "                test_df[f'{model}'] = round(data['test_rmse_mean'],5)\n",
    "            except:\n",
    "                train_df[f'{model}'] = np.nan\n",
    "                test_df[f'{model}'] = np.nan\n",
    "        train_df.to_csv(f\"{path}/RMSE_train_results_pure.csv\")\n",
    "        test_df.to_csv(f\"{path}/RMSE_test_results_pure.csv\")\n",
    "        train_list.append(train_df)\n",
    "        test_list.append(test_df)\n",
    "    return train_list,test_list"
   ]
  },
  {
   "cell_type": "code",
   "execution_count": 7,
   "metadata": {},
   "outputs": [],
   "source": [
    "missingtypelist = [\"logistic\",\"diffuse\",\"quantile\",\"mar\",\"mcar\"]\n",
    "\n",
    "for missing_type in missingtypelist:\n",
    "    train_list = []\n",
    "    test_list = []\n",
    "    for dataname in real_datalist:\n",
    "        train_df = pd.DataFrame()\n",
    "        test_df = pd.DataFrame()\n",
    "        for model in modellist:\n",
    "            path = f\"../results/{missing_type}/{dataname}\"\n",
    "            try:\n",
    "                data = pd.read_csv(f\"{path}/{model}/{missing_type}_RMSE.csv\",index_col=0)\n",
    "                train_df[f'{model}'] = round(data['train_rmse_mean'],5)\n",
    "                test_df[f'{model}'] = round(data['test_rmse_mean'],5)\n",
    "            except:\n",
    "                train_df[f'{model}'] = np.nan\n",
    "                test_df[f'{model}'] = np.nan\n",
    "\n",
    "        new_col_names = [\"RD\", \"ZR\", \"Mean\", \"KNN\", \"MF\", \"Mice\", \"MisF\", \"XGB\", \"OT\", \"HI\", \"GAIN\", \"Mi\", \"NMi\", \"CSDI\"]\n",
    "\n",
    "        train_df = train_df.rename(columns=dict(zip(train_df.columns, new_col_names)))\n",
    "        test_df = test_df.rename(columns=dict(zip(test_df.columns, new_col_names)))\n",
    "\n",
    "        train_df.to_csv(f\"{path}/RMSE_train_results_pure.csv\")\n",
    "        test_df.to_csv(f\"{path}/RMSE_test_results_pure.csv\")\n"
   ]
  },
  {
   "cell_type": "code",
   "execution_count": null,
   "metadata": {},
   "outputs": [],
   "source": []
  }
 ],
 "metadata": {
  "kernelspec": {
   "display_name": "py3.10",
   "language": "python",
   "name": "python3"
  },
  "language_info": {
   "codemirror_mode": {
    "name": "ipython",
    "version": 3
   },
   "file_extension": ".py",
   "mimetype": "text/x-python",
   "name": "python",
   "nbconvert_exporter": "python",
   "pygments_lexer": "ipython3",
   "version": "3.10.13"
  }
 },
 "nbformat": 4,
 "nbformat_minor": 2
}
