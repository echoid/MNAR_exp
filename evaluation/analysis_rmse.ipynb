{
 "cells": [
  {
   "cell_type": "code",
   "execution_count": 2,
   "metadata": {},
   "outputs": [],
   "source": [
    "import numpy as np \n",
    "import pandas as pd\n",
    "import matplotlib.pyplot as plt\n",
    "import seaborn as sns\n",
    "import os"
   ]
  },
  {
   "cell_type": "code",
   "execution_count": 3,
   "metadata": {},
   "outputs": [],
   "source": [
    "def split_mean_std(dataframe):\n",
    "    mean_df = dataframe.copy()\n",
    "    std_df = dataframe.copy()\n",
    "\n",
    "    for col in dataframe.columns:\n",
    "        if col != 'index':\n",
    "            mean_df[col] = dataframe[col].apply(lambda x: float(x.split(' ± ')[0]))\n",
    "            std_df[col] = dataframe[col].apply(lambda x: float(x.split(' ± ')[1]))\n",
    "\n",
    "    return mean_df,std_df"
   ]
  },
  {
   "cell_type": "code",
   "execution_count": 27,
   "metadata": {},
   "outputs": [
    {
     "name": "stdout",
     "output_type": "stream",
     "text": [
      "random        0.41688\n",
      "zero          0.35292\n",
      "mean          0.18359\n",
      "knn           0.17385\n",
      "mice          0.14133\n",
      "XGB               inf\n",
      "missforest    0.15158\n",
      "mf            0.18639\n",
      "hyper         0.14779\n",
      "gain          0.17554\n",
      "notmiwae      0.15615\n",
      "miwae         0.15568\n",
      "tabcsdi       0.20155\n",
      "ot            0.20894\n",
      "Name: Q1_Q4_0.5, dtype: object\n"
     ]
    }
   ],
   "source": [
    "real_datalist = [\"banknote\",\"concrete_compression\",\n",
    "            \"california\",\"climate_model_crashes\",\n",
    "            \"connectionist_bench_sonar\",\"qsar_biodegradation\",\n",
    "            \"yeast\",\"yacht_hydrodynamics\",\"wine_quality_white\",\"wine_quality_red\"\n",
    "            ]\n",
    "#missingtypelist = [\"logistic\"]\n",
    "missingtypelist = [\"quantile\"]\n",
    "index = 12\n",
    "modellist = [\"random\",\"zero\",\"mean\",\"knn\",\"mice\",\"XGB\",\"missforest\",\"mf\",\"hyper\",\"gain\",\"notmiwae\",\"miwae\",\"tabcsdi\",\"ot\"]\n",
    "for missing_type in missingtypelist:\n",
    "    train_list = []\n",
    "    test_list = []\n",
    "    df_name = []\n",
    "    for dataname in real_datalist:\n",
    "        train_df = pd.DataFrame()\n",
    "        test_df = pd.DataFrame()\n",
    "        for model in modellist:\n",
    "            path = f\"../results/{missing_type}/{dataname}\"\n",
    "            try:\n",
    "                data = pd.read_csv(f\"{path}/{model}/{missing_type}_RMSE.csv\",index_col=0)\n",
    "                #train_df[f'{model}'] = data['train_rmse_mean'].map('{:.5f}'.format) + ' ± ' + data['train_rmse_std'].map('{:.3f}'.format)\n",
    "                test_df[f'{model}'] = data['test_rmse_mean'].map('{:.5f}'.format) \n",
    "            except:\n",
    "                train_df[f'{model}'] = '0 ± 0'\n",
    "                test_df[f'{model}'] = '0 ± 0'\n",
    "\n",
    "\n",
    "        df_name.append(dataname)\n",
    "        test_list.append(test_df.iloc[index])\n",
    "    print(test_df.iloc[index])\n",
    "    test_df_all = pd.DataFrame(test_list,index = df_name)\n",
    "    test_df_all.to_csv(f\"../results/{missing_type}_{test_df.index[index]}_RMSE_test.csv\")\n",
    "    #print(test_df_all)"
   ]
  },
  {
   "cell_type": "code",
   "execution_count": null,
   "metadata": {},
   "outputs": [],
   "source": [
    "##"
   ]
  },
  {
   "cell_type": "markdown",
   "metadata": {},
   "source": [
    "## ML tasks"
   ]
  },
  {
   "cell_type": "code",
   "execution_count": 93,
   "metadata": {},
   "outputs": [],
   "source": [
    "real_datalist = [\"banknote\",\"concrete_compression\",\n",
    "            \"california\",\"climate_model_crashes\",\n",
    "            \"connectionist_bench_sonar\",\"qsar_biodegradation\",\n",
    "            \"yeast\",\"yacht_hydrodynamics\",\"wine_quality_white\",\"wine_quality_red\"\n",
    "            ]\n",
    "\n",
    "rmse_data = [\"concrete_compression\",\n",
    "            \"wine_quality_white\",\"wine_quality_red\",\n",
    "            \"california\",\"yacht_hydrodynamics\"\n",
    "            ]\n",
    "f1_data = [\"banknote\",\n",
    "            \"climate_model_crashes\",\n",
    "            \"connectionist_bench_sonar\",\"qsar_biodegradation\",\n",
    "            \"yeast\"\n",
    "            ]\n",
    "\n",
    "#missingtypelist = [\"logistic\"]\n",
    "missingtypelist = [\"diffuse\",\"logistic\"]\n",
    "#missingtypelist = [\"quantile\"]\n",
    "index = 6\n",
    "modellist = [\"random\",\"zero\",\"mean\",\"knn\",\"mice\",\"XGB\",\"missforest\",\"mf\",\"hyper\",\"gain\",\"notmiwae\",\"miwae\",\"tabcsdi\",\"ot\"]\n",
    "for missing_type in missingtypelist:\n",
    "    for i in range(3):\n",
    "        train_list = []\n",
    "        test_list = []\n",
    "        df_name = []\n",
    "        train_df = pd.DataFrame()\n",
    "        test_df = pd.DataFrame()\n",
    "        for dataname in rmse_data:\n",
    "            if dataname in [\"concrete_compression\",\n",
    "            \"wine_quality_white\",\"wine_quality_red\",\n",
    "            \"california\",\"yacht_hydrodynamics\"\n",
    "            ]:\n",
    "                task_type = \"rmse\"\n",
    "            else:\n",
    "                task_type = \"f1\"\n",
    "\n",
    "            for model in modellist:\n",
    "                path = f\"../results/{missing_type}/{dataname}\"\n",
    "\n",
    "                data = pd.read_csv(f\"{path}/{model}/{missing_type}_ML_{task_type}_{i}.csv\",index_col=0)\n",
    "                test_df[f'{model}'] = data[f'test_ML_{task_type}_mean'].map('{:.5f}'.format) \n",
    "                #print(test_df.index)\n",
    "\n",
    "            df_name.append(dataname)\n",
    "\n",
    "            test_list.append(test_df.iloc[index])\n",
    "\n",
    "        test_df_all = pd.DataFrame(test_list,index = df_name)\n",
    "        test_df_all.to_csv(f\"../results/{missing_type}_{test_df.index[index]}_ML_{task_type}_test_{i}.csv\")"
   ]
  }
 ],
 "metadata": {
  "kernelspec": {
   "display_name": "Python 3",
   "language": "python",
   "name": "python3"
  },
  "language_info": {
   "codemirror_mode": {
    "name": "ipython",
    "version": 3
   },
   "file_extension": ".py",
   "mimetype": "text/x-python",
   "name": "python",
   "nbconvert_exporter": "python",
   "pygments_lexer": "ipython3",
   "version": "3.10.13"
  }
 },
 "nbformat": 4,
 "nbformat_minor": 2
}
