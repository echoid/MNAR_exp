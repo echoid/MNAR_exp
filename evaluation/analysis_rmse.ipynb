{
 "cells": [
  {
   "cell_type": "code",
   "execution_count": 1,
   "metadata": {},
   "outputs": [],
   "source": [
    "import numpy as np \n",
    "import pandas as pd\n",
    "import matplotlib.pyplot as plt\n",
    "import seaborn as sns\n",
    "import os"
   ]
  },
  {
   "cell_type": "code",
   "execution_count": 2,
   "metadata": {},
   "outputs": [],
   "source": [
    "def split_mean_std(dataframe):\n",
    "    mean_df = dataframe.copy()\n",
    "    std_df = dataframe.copy()\n",
    "\n",
    "    for col in dataframe.columns:\n",
    "        if col != 'index':\n",
    "            mean_df[col] = dataframe[col].apply(lambda x: float(x.split(' ± ')[0]))\n",
    "            std_df[col] = dataframe[col].apply(lambda x: float(x.split(' ± ')[1]))\n",
    "\n",
    "    return mean_df,std_df"
   ]
  },
  {
   "cell_type": "code",
   "execution_count": null,
   "metadata": {},
   "outputs": [],
   "source": [
    "def make_rmse_list(missing_type,datalist,modellist):\n",
    "    train_list = []\n",
    "    test_list = []\n",
    "    for dataname in datalist:\n",
    "        train_df = pd.DataFrame()\n",
    "        test_df = pd.DataFrame()\n",
    "        for model in modellist:\n",
    "            path = f\"../results/{missing_type}/{dataname}\"\n",
    "            try:\n",
    "                data = pd.read_csv(f\"{path}/{model}/{missing_type}_RMSE.csv\",index_col=0)\n",
    "                train_df[f'{model}'] = data['train_rmse_mean'].map('{:.5f}'.format) + ' ± ' + data['train_rmse_std'].map('{:.3f}'.format)\n",
    "                test_df[f'{model}'] = data['test_rmse_mean'].map('{:.5f}'.format) + ' ± ' + data['test_rmse_std'].map('{:.3f}'.format)\n",
    "            except:\n",
    "                train_df[f'{model}'] = \"0 ± 0\"\n",
    "                test_df[f'{model}'] = \"0 ± 0\"\n",
    "\n",
    "        train_list.append(train_df)\n",
    "        test_list.append(test_df)\n",
    "    return train_list,test_list"
   ]
  },
  {
   "cell_type": "code",
   "execution_count": 46,
   "metadata": {},
   "outputs": [
    {
     "name": "stdout",
     "output_type": "stream",
     "text": [
      "                            random     zero     mean      knn     mice  \\\n",
      "banknote                   0.41798  0.59033  0.26844  0.25716  0.20082   \n",
      "concrete_compression       0.46555  0.44036  0.28465  0.24078  0.22691   \n",
      "california                 0.49061  0.34898  0.18940  0.21866  0.15289   \n",
      "climate_model_crashes      0.47859  0.62987  0.38354  0.42118  0.38443   \n",
      "connectionist_bench_sonar  0.43514  0.47977  0.27854  0.20865  0.83527   \n",
      "qsar_biodegradation        0.51808  0.28080  0.15148  0.11660  0.11449   \n",
      "yeast                      0.45765  0.36157  0.14004  0.16128  0.14978   \n",
      "yacht_hydrodynamics        0.45235  0.58434  0.38450  0.38216  0.33603   \n",
      "wine_quality_white         0.42739  0.30302  0.14296  0.13429  0.11252   \n",
      "wine_quality_red           0.41688  0.35292  0.18359  0.17385  0.14133   \n",
      "\n",
      "                               XGB missforest       mf    hyper     gain  \\\n",
      "banknote                   0.20217    0.21942  0.29570  0.21318  0.26088   \n",
      "concrete_compression       0.23486    0.24615  0.31618  0.23581  0.27780   \n",
      "california                 0.15424    0.15466  0.17303  0.13527  0.18438   \n",
      "climate_model_crashes      0.41111    0.39618  0.38663  0.39111  0.41078   \n",
      "connectionist_bench_sonar  0.23280    0.18849  0.26679  0.20818  0.27011   \n",
      "qsar_biodegradation        0.15547    0.11330  0.14626  0.13268  0.16251   \n",
      "yeast                      0.15532    0.15235  0.14550  0.26602  0.16688   \n",
      "yacht_hydrodynamics        0.37048    0.33570  0.38601  0.35663  0.58936   \n",
      "wine_quality_white         0.11589    0.12166  0.14666  0.11441  0.14310   \n",
      "wine_quality_red               inf    0.15158  0.18639  0.14779  0.17554   \n",
      "\n",
      "                          notmiwae    miwae  tabcsdi       ot  \n",
      "banknote                   0.20608  0.20823  0.28169  0.28558  \n",
      "concrete_compression       0.24812  0.24256  0.31076  0.30157  \n",
      "california                 0.16339  0.16341  0.17697  0.21367  \n",
      "climate_model_crashes      0.38761  0.38822  0.44146  0.39903  \n",
      "connectionist_bench_sonar  0.19982  0.20635  0.31805  0.29605  \n",
      "qsar_biodegradation        0.12769  0.12837  0.16178  0.18036  \n",
      "yeast                      0.13854  0.14011  0.15189  0.17086  \n",
      "yacht_hydrodynamics        0.38097  0.37137  0.44951  0.40467  \n",
      "wine_quality_white         0.12711  0.12774  0.15199  0.17534  \n",
      "wine_quality_red           0.15615  0.15568  0.20155  0.20894  \n"
     ]
    }
   ],
   "source": [
    "real_datalist = [\"banknote\",\"concrete_compression\",\n",
    "            \"california\",\"climate_model_crashes\",\n",
    "            \"connectionist_bench_sonar\",\"qsar_biodegradation\",\n",
    "            \"yeast\",\"yacht_hydrodynamics\",\"wine_quality_white\",\"wine_quality_red\"\n",
    "            ]\n",
    "missingtypelist = [\"quantile\"]\n",
    "#missingtypelist = [\"quantile\"]\n",
    "index = 2\n",
    "modellist = [\"random\",\"zero\",\"mean\",\"knn\",\"mice\",\"XGB\",\"missforest\",\"mf\",\"hyper\",\"gain\",\"notmiwae\",\"miwae\",\"tabcsdi\",\"ot\"]\n",
    "for missing_type in missingtypelist:\n",
    "    train_list = []\n",
    "    test_list = []\n",
    "    df_name = []\n",
    "    for dataname in real_datalist:\n",
    "        train_df = pd.DataFrame()\n",
    "        test_df = pd.DataFrame()\n",
    "        for model in modellist:\n",
    "            path = f\"../results/{missing_type}/{dataname}\"\n",
    "            try:\n",
    "                data = pd.read_csv(f\"{path}/{model}/{missing_type}_RMSE.csv\",index_col=0)\n",
    "                #train_df[f'{model}'] = data['train_rmse_mean'].map('{:.5f}'.format) + ' ± ' + data['train_rmse_std'].map('{:.3f}'.format)\n",
    "                test_df[f'{model}'] = data['test_rmse_mean'].map('{:.5f}'.format) \n",
    "            except:\n",
    "                train_df[f'{model}'] = '0 ± 0'\n",
    "                test_df[f'{model}'] = '0 ± 0'\n",
    "\n",
    "        #print(test_df.iloc[4])\n",
    "        # train_df.to_csv(f\"{path}/RMSE_train_results.csv\")\n",
    "        # test_df.to_csv(f\"{path}/RMSE_test_results.csv\")\n",
    "        #train_list.append(train_df.iloc[4])\n",
    "        df_name.append(dataname)\n",
    "        #print(test_df.index[12])\n",
    "        test_list.append(test_df.iloc[index])\n",
    "        #print(test_df.iloc[5])\n",
    "    test_df_all = pd.DataFrame(test_list,index = df_name)\n",
    "    test_df_all.to_csv(f\"../results/{missing_type}_{test_df.index[index]}_RMSE_test.csv\")\n",
    "    print(test_df_all)"
   ]
  },
  {
   "cell_type": "code",
   "execution_count": null,
   "metadata": {},
   "outputs": [],
   "source": []
  }
 ],
 "metadata": {
  "kernelspec": {
   "display_name": "Python 3",
   "language": "python",
   "name": "python3"
  },
  "language_info": {
   "codemirror_mode": {
    "name": "ipython",
    "version": 3
   },
   "file_extension": ".py",
   "mimetype": "text/x-python",
   "name": "python",
   "nbconvert_exporter": "python",
   "pygments_lexer": "ipython3",
   "version": "3.10.13"
  }
 },
 "nbformat": 4,
 "nbformat_minor": 2
}
