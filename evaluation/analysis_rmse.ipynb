{
 "cells": [
  {
   "cell_type": "code",
   "execution_count": 5,
   "metadata": {},
   "outputs": [],
   "source": [
    "import numpy as np \n",
    "import pandas as pd\n",
    "import matplotlib.pyplot as plt\n",
    "import seaborn as sns\n",
    "import os"
   ]
  },
  {
   "cell_type": "code",
   "execution_count": 6,
   "metadata": {},
   "outputs": [],
   "source": [
    "def split_mean_std(dataframe):\n",
    "    mean_df = dataframe.copy()\n",
    "    std_df = dataframe.copy()\n",
    "\n",
    "    for col in dataframe.columns:\n",
    "        if col != 'index':\n",
    "            mean_df[col] = dataframe[col].apply(lambda x: float(x.split(' ± ')[0]))\n",
    "            std_df[col] = dataframe[col].apply(lambda x: float(x.split(' ± ')[1]))\n",
    "\n",
    "    return mean_df,std_df"
   ]
  },
  {
   "cell_type": "code",
   "execution_count": 24,
   "metadata": {},
   "outputs": [
    {
     "name": "stdout",
     "output_type": "stream",
     "text": [
      "random        0.44485\n",
      "zero          0.25469\n",
      "mean          0.53889\n",
      "knn           0.54129\n",
      "mf            0.43605\n",
      "mice          0.53382\n",
      "missforest    0.50949\n",
      "XGB           0.52862\n",
      "ot            0.49055\n",
      "hyper         0.48445\n",
      "gain          0.54008\n",
      "miwae         0.52222\n",
      "notmiwae      3.32706\n",
      "tabcsdi       0.10819\n",
      "Name: 0.7, dtype: object\n"
     ]
    }
   ],
   "source": [
    "real_datalist = [\"banknote\",\n",
    "            \"california\",\"climate_model_crashes\",\"concrete_compression\",\n",
    "           \"qsar_biodegradation\",\"wine_quality_red\", \"connectionist_bench_sonar\",\"wine_quality_white\",\n",
    "            \"yacht_hydrodynamics\",\"yeast\"\n",
    "            ]\n",
    "#missingtypelist = [\"logistic\"]\n",
    "# missingtypelist = [\"quantile\"]\n",
    "# index = 12\n",
    "missingtypelist = [\"diffuse\"]\n",
    "index = 6\n",
    "modellist = [\"random\", \"zero\", \"mean\", \"knn\", \"mf\", \"mice\", \"missforest\", \"XGB\", \"ot\", \"hyper\", \"gain\", \"miwae\", \"notmiwae\", \"tabcsdi\"]\n",
    "for missing_type in missingtypelist:\n",
    "    train_list = []\n",
    "    test_list = []\n",
    "    df_name = []\n",
    "    for dataname in real_datalist:\n",
    "        train_df = pd.DataFrame()\n",
    "        test_df = pd.DataFrame()\n",
    "        for model in modellist:\n",
    "            path = f\"../results/{missing_type}/{dataname}\"\n",
    "            try:\n",
    "                data = pd.read_csv(f\"{path}/{model}/{missing_type}_RMSE.csv\",index_col=0)\n",
    "                #train_df[f'{model}'] = data['train_rmse_mean'].map('{:.5f}'.format) + ' ± ' + data['train_rmse_std'].map('{:.3f}'.format)\n",
    "                test_df[f'{model}'] = data['test_rmse_mean'].map('{:.5f}'.format) \n",
    "            except:\n",
    "                train_df[f'{model}'] = '0 ± 0'\n",
    "                test_df[f'{model}'] = '0 ± 0'\n",
    "\n",
    "\n",
    "        df_name.append(dataname)\n",
    "        test_list.append(test_df.iloc[index])\n",
    "    print(test_df.iloc[index])\n",
    "    test_df_all = pd.DataFrame(test_list,index = df_name)\n",
    "    new_row_names = [\"Bank\", \"Cali\", \"Climate\", \"Concre\", \"Qsar\", \"Red\", \"Sonar\", \"White\", \"Yacht\", \"Yeast\"]\n",
    "    new_col_names = [\"RD\", \"ZR\", \"Mean\", \"KNN\", \"MF\", \"Mice\", \"MisF\", \"XGB\", \"OT\", \"HI\", \"GAIN\", \"Mi\", \"NMi\", \"CSDI\"]\n",
    "\n",
    "    # Rename rows and columns\n",
    "    test_df_all = test_df_all.rename(index=dict(zip(test_df_all.index, new_row_names)), columns=dict(zip(test_df_all.columns, new_col_names)))\n",
    "\n",
    "    # Save the modified DataFrame to a CSV file\n",
    "    test_df_all.to_csv(f\"../results/output/{missing_type}_{test_df.index[index]}_RMSE_test.csv\")\n",
    "\n",
    "    \n",
    "    #print(test_df_all)"
   ]
  },
  {
   "cell_type": "code",
   "execution_count": null,
   "metadata": {},
   "outputs": [],
   "source": [
    "##"
   ]
  },
  {
   "cell_type": "markdown",
   "metadata": {},
   "source": [
    "## ML tasks"
   ]
  },
  {
   "cell_type": "code",
   "execution_count": 25,
   "metadata": {},
   "outputs": [],
   "source": [
    "real_datalist = [\"banknote\",\n",
    "            \"california\",\"climate_model_crashes\",\"concrete_compression\",\n",
    "           \"qsar_biodegradation\",\"wine_quality_red\" \"connectionist_bench_sonar\",\"wine_quality_white\",\n",
    "            \"yacht_hydrodynamics\",\"yeast\"\n",
    "            ]\n",
    "\n",
    "rmse_data = [\"california\",\"concrete_compression\",\n",
    "            \"wine_quality_red\",\"wine_quality_white\",\n",
    "            \"yacht_hydrodynamics\"\n",
    "            ]\n",
    "f1_data = [\"banknote\",\n",
    "            \"climate_model_crashes\",\n",
    "            \"qsar_biodegradation\",\"connectionist_bench_sonar\",\n",
    "            \"yeast\"\n",
    "            ]\n",
    "\n",
    "#missingtypelist = [\"logistic\"]\n",
    "missingtypelist = [\"diffuse\",\"logistic\"]\n",
    "#missingtypelist = [\"quantile\"]\n",
    "index = 6\n",
    "modellist = [\"random\", \"zero\", \"mean\", \"knn\", \"mf\", \"mice\", \"missforest\", \"XGB\", \"ot\", \"hyper\", \"gain\", \"miwae\", \"notmiwae\", \"tabcsdi\"]\n",
    "\n",
    "for missing_type in missingtypelist:\n",
    "    for i in range(3):\n",
    "        train_list = []\n",
    "        test_list = []\n",
    "        df_name = []\n",
    "        train_df = pd.DataFrame()\n",
    "        test_df = pd.DataFrame()\n",
    "        for dataname in rmse_data:\n",
    "            if dataname in [\"concrete_compression\",\n",
    "            \"wine_quality_white\",\"wine_quality_red\",\n",
    "            \"california\",\"yacht_hydrodynamics\"\n",
    "            ]:\n",
    "                task_type = \"rmse\"\n",
    "            else:\n",
    "                task_type = \"f1\"\n",
    "\n",
    "            for model in modellist:\n",
    "                path = f\"../results/{missing_type}/{dataname}\"\n",
    "\n",
    "                data = pd.read_csv(f\"{path}/{model}/{missing_type}_ML_{task_type}_{i}.csv\",index_col=0)\n",
    "                test_df[f'{model}'] = data[f'test_ML_{task_type}_mean'].map('{:.5f}'.format) \n",
    "                #print(test_df.index)\n",
    "\n",
    "            df_name.append(dataname)\n",
    "\n",
    "            test_list.append(test_df.iloc[index])\n",
    "\n",
    "        test_df_all = pd.DataFrame(test_list,index = df_name)\n",
    "\n",
    "        new_row_names = [\"Bank\", \"Cali\", \"Climate\", \"Concre\", \"Qsar\", \"Red\", \"Sonar\", \"White\", \"Yacht\", \"Yeast\"]\n",
    "        new_col_names = [\"RD\", \"ZR\", \"Mean\", \"KNN\", \"MF\", \"Mice\", \"MisF\", \"XGB\", \"OT\", \"HI\", \"GAIN\", \"Mi\", \"NMi\", \"CSDI\"]\n",
    "\n",
    "        # Rename rows and columns\n",
    "        test_df_all = test_df_all.rename(index=dict(zip(test_df_all.index, new_row_names)), columns=dict(zip(test_df_all.columns, new_col_names)))\n",
    "\n",
    "        test_df_all.to_csv(f\"../results/output_ml/{missing_type}_{test_df.index[index]}_ML_{task_type}_test_{i}.csv\")"
   ]
  },
  {
   "cell_type": "code",
   "execution_count": 3,
   "metadata": {},
   "outputs": [
    {
     "name": "stdout",
     "output_type": "stream",
     "text": [
      "Sorted real_datalist: ['banknote', 'california', 'climate_model_crashes', 'concrete_compression', 'connectionist_bench_sonar', 'qsar_biodegradation', 'wine_quality_red', 'wine_quality_white', 'yacht_hydrodynamics', 'yeast']\n",
      "Sorted rmse_data: ['california', 'concrete_compression', 'wine_quality_red', 'wine_quality_white', 'yacht_hydrodynamics']\n",
      "Sorted f1_data: ['banknote', 'climate_model_crashes', 'connectionist_bench_sonar', 'qsar_biodegradation', 'yeast']\n",
      "Sorted f1_data: ['bank', 'cali', 'climate', 'concrete', 'qsar', 'red', 'sonar', 'white', 'yacht', 'yeast']\n"
     ]
    }
   ],
   "source": [
    "\n",
    "\n",
    "sort_list = [\"bank\",\"cali\",\"climate\",\"concrete\",\"qsar\",\"red\",\"sonar\",\"white\",\"yacht\",\"yeast\"]\n",
    "\n"
   ]
  }
 ],
 "metadata": {
  "kernelspec": {
   "display_name": "Python 3",
   "language": "python",
   "name": "python3"
  },
  "language_info": {
   "codemirror_mode": {
    "name": "ipython",
    "version": 3
   },
   "file_extension": ".py",
   "mimetype": "text/x-python",
   "name": "python",
   "nbconvert_exporter": "python",
   "pygments_lexer": "ipython3",
   "version": "3.10.13"
  }
 },
 "nbformat": 4,
 "nbformat_minor": 2
}
