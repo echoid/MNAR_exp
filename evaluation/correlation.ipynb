{
 "cells": [
  {
   "cell_type": "code",
   "execution_count": 1,
   "metadata": {},
   "outputs": [],
   "source": [
    "import numpy as np\n",
    "import sys\n",
    "sys.path.append(\"..\")\n",
    "import pickle\n",
    "import numpy as np\n",
    "import pandas as pd\n",
    "from tqdm import tqdm\n",
    "import sys\n",
    "from data_loaders import *\n",
    "from missing_process.block_rules import *\n",
    "import json\n",
    "import matplotlib.pyplot as plt\n",
    "import seaborn as sns\n",
    "from scipy import stats\n",
    "import math\n",
    "from tqdm import tqdm\n",
    "\n",
    "import numpy as np\n",
    "from scipy.stats import pearsonr,kendalltau"
   ]
  },
  {
   "cell_type": "code",
   "execution_count": 2,
   "metadata": {},
   "outputs": [],
   "source": [
    "\n",
    "\n",
    "real_datalist = [\n",
    "    \"banknoe\",\n",
    "        \"contcrete_compression\",\n",
    "            \"wine_quality_white\",\"wine_quality_red\",\n",
    "            \"california\",\"climate_model_crashes\",\n",
    "            \"connectionist_bench_sonar\",\"qsar_biodegradation\",\n",
    "            \"yeast\",\"yacht_hydrodynamics\"\n",
    "            ]\n",
    "\n",
    "missingtypelist = [\n",
    "                    \"quantile\",\n",
    "                   \"diffuse\",\n",
    "                   \"logistic\"\n",
    "                   \"mcar\",\"mar\"\n",
    "                   ]\n",
    "\n",
    "seed = 1\n",
    "nfold = 5"
   ]
  },
  {
   "cell_type": "code",
   "execution_count": 3,
   "metadata": {},
   "outputs": [],
   "source": [
    "def load_impute_data(missingtype,model_name,rule_name,dataname,fold,seed = 1):\n",
    "\n",
    "    if model_name == \"tabcsdi\" and missingtype in [\"mcar\",\"mar\"]:\n",
    "        train_impute = np.load(f'impute_hpc/{missingtype}/{dataname}/{model_name}/{rule_name}_seed-{seed}_{fold}_train.npy')\n",
    "        test_impute = np.load(f'impute_hpc/{missingtype}/{dataname}/{model_name}/{rule_name}_seed-{seed}_{fold}_test.npy')\n",
    "        return train_impute,test_impute\n",
    "\n",
    "    train_impute = np.load(f'impute/{missingtype}/{dataname}/{model_name}/{rule_name}_seed-{seed}_{fold}_train.npy')\n",
    "    test_impute = np.load(f'impute/{missingtype}/{dataname}/{model_name}/{rule_name}_seed-{seed}_{fold}_test.npy')\n",
    "    return train_impute,test_impute\n",
    "\n",
    "def load_train_test(index_file,norm_values,observed_masks):  \n",
    "\n",
    "    train_index = index_file[\"train_index\"]\n",
    "    test_index = index_file[\"test_index\"]\n",
    "\n",
    "    train_values = norm_values[train_index,:]\n",
    "\n",
    "    train_masks = observed_masks[train_index,:]\n",
    "\n",
    "    test_values = norm_values[test_index,:]\n",
    "\n",
    "    test_masks = observed_masks[test_index,:]\n",
    "\n",
    "\n",
    "    return train_values,train_masks,test_values,test_masks"
   ]
  },
  {
   "cell_type": "code",
   "execution_count": 4,
   "metadata": {},
   "outputs": [],
   "source": [
    "def fillin_imputed_data(imputed,mask,original):\n",
    "    filled_data = np.where(mask == 1, original, imputed)\n",
    "    return filled_data"
   ]
  },
  {
   "cell_type": "code",
   "execution_count": 5,
   "metadata": {},
   "outputs": [],
   "source": [
    "def fillin_imputed_data(imputed, mask, original):\n",
    "    \"\"\"\n",
    "    Fill in missing values in the imputed dataset using the original dataset and the mask.\n",
    "    Replace NaNs in the imputed dataset with 1 when the mask indicates missing values.\n",
    "\n",
    "    Parameters:\n",
    "        imputed (numpy.ndarray): Imputed dataset with missing values.\n",
    "        mask (numpy.ndarray): Mask indicating missing values (NaNs).\n",
    "        original (numpy.ndarray): Original dataset with complete values.\n",
    "\n",
    "    Returns:\n",
    "        numpy.ndarray: New dataset with missing values filled in.\n",
    "    \"\"\"\n",
    "    filled_data = np.where(np.isnan(mask), 1, imputed)\n",
    "    return filled_data"
   ]
  },
  {
   "cell_type": "code",
   "execution_count": 16,
   "metadata": {},
   "outputs": [],
   "source": [
    "\n",
    "datalist = real_datalist\n",
    "\n",
    "\n",
    "def run_cluster(rule_name,model_name_list,missingtype,datalist):\n",
    "\n",
    "    d_corr = {}\n",
    "\n",
    "    for dataname in tqdm(datalist):\n",
    "        \n",
    "        directory_path = f\"datasets/{dataname}\"\n",
    "        data = dataset_loader(dataname)    \n",
    "        norm_values = np.load(f'{directory_path}/{dataname}_norm.npy')\n",
    "        \n",
    "        observed_masks = np.load(f'{directory_path}/{missingtype}/{rule_name}.npy')\n",
    "        f = open(f'{directory_path}/split_index_cv_seed-{seed}_nfold-{nfold}.json')\n",
    "        index_file = json.load(f)\n",
    "\n",
    "        d_corr[dataname] = {}\n",
    "\n",
    "\n",
    "        for model_name in model_name_list:\n",
    "            d_corr[dataname][model_name]=0\n",
    "\n",
    "\n",
    "            corr_final_list = []\n",
    "            for fold in index_file:\n",
    "                index = index_file[fold]\n",
    "                train_values,train_masks,test_values,test_masks = load_train_test(index,norm_values,observed_masks)\n",
    "                impute_train,impute_test  = load_impute_data(missingtype,model_name,rule_name,dataname,fold)\n",
    "\n",
    "                impute_test = fillin_imputed_data(impute_test,test_masks,test_values)\n",
    "                impute_test = np.nan_to_num(impute_test, nan=0)\n",
    "\n",
    "                test_masks = 1-test_masks\n",
    "\n",
    "                columns = find_missing_column(test_masks)\n",
    "                \n",
    "                complete = test_masks * test_values\n",
    "                impute = test_masks * impute_test\n",
    "\n",
    "                corr_list = []\n",
    "                # for index in columns:\n",
    "                #     complete_array = complete[:,index][test_masks[:,index] == 1]\n",
    "                #     impute_array = impute[:,index][test_masks[:,index] == 1]\n",
    "\n",
    "                #     if len(complete_array)> 1 and len(impute_array)> 1:\n",
    "                #         corr,_ = pearsonr(complete_array,impute_array)\n",
    "                #         corr_list.append(corr)\n",
    "\n",
    "\n",
    "\n",
    "                for index in columns:\n",
    "\n",
    "                    complete_array = complete[:,index]\n",
    "                    impute_array = impute[:,index]\n",
    "                    #corr,_ = pearsonr(complete_array,impute_array)\n",
    "                    corr,_ = kendalltau(complete_array,impute_array)\n",
    "                    if math.isnan(corr) or model_name == \"mean\":\n",
    "                        corr = 0\n",
    "                    corr_list.append(corr)\n",
    "\n",
    "\n",
    "\n",
    "                corr_final_list.append(np.mean(corr_list))\n",
    "\n",
    "            \n",
    "\n",
    "            d_corr[dataname][model_name]=np.mean(corr_final_list)\n",
    "\n",
    "\n",
    "\n",
    "    d_corr = pd.DataFrame(d_corr).T\n",
    "    new_col_names = [\"RD\", \"ZR\", \"Mean\", \"KNN\", \"MF\", \"Mice\", \"MisF\", \"XGB\", \"OT\", \"HI\", \"GAIN\", \"Mi\", \"NMi\", \"CSDI\"]\n",
    "    new_row_names = [\"Bank\",\"Cali\",\"Climate\",\"Concre\",\"Qsar\",  \"Red\",  \"Sonar\", \"White\", \"Yacht\",\"Yeast\"]\n",
    "\n",
    "    path = f\"correlation/{missingtype}/\"\n",
    "    if not os.path.exists(path):\n",
    "        os.makedirs(path)\n",
    "\n",
    "    d_corr = d_corr.rename(index=dict(zip(d_corr.index, new_row_names)), columns=dict(zip(d_corr.columns, new_col_names)))\n",
    "\n",
    "    d_corr.to_csv(f\"{path}/{rule_name}_correlation.csv\")\n",
    "\n",
    "\n"
   ]
  },
  {
   "cell_type": "code",
   "execution_count": 17,
   "metadata": {},
   "outputs": [
    {
     "name": "stderr",
     "output_type": "stream",
     "text": [
      "100%|██████████| 10/10 [00:01<00:00,  7.14it/s]\n",
      "100%|██████████| 10/10 [00:01<00:00,  6.57it/s]\n",
      "100%|██████████| 10/10 [00:01<00:00,  6.04it/s]\n",
      "100%|██████████| 10/10 [00:02<00:00,  3.89it/s]\n",
      "100%|██████████| 10/10 [00:02<00:00,  3.79it/s]\n",
      "100%|██████████| 10/10 [00:02<00:00,  3.70it/s]\n"
     ]
    }
   ],
   "source": [
    "model_name_list = [\"random\", \"zero\", \"mean\", \"knn\", \"mf\", \"mice\", \"missforest\", \"XGB\", \"ot\", \"hyper\", \"gain\", \"miwae\", \"notmiwae\", \"tabcsdi\"]\n",
    "\n",
    "# real_datalist = [\n",
    "#         \"concrete_compression\",\n",
    "#             \"wine_quality_white\",\"wine_quality_red\",\n",
    "#             \"california\",\n",
    "# \"qsar_biodegradation\",\n",
    "#             \"yeast\",\"yacht_hydrodynamics\"\n",
    "#             ]\n",
    "\n",
    "\n",
    "real_datalist = [\"banknote\",\n",
    "            \"california\",\"climate_model_crashes\",\"concrete_compression\",\n",
    "           \"qsar_biodegradation\",\"wine_quality_red\", \"connectionist_bench_sonar\",\"wine_quality_white\",\n",
    "            \"yacht_hydrodynamics\",\"yeast\"\n",
    "            ]\n",
    "\n",
    "for missingtype in [\"diffuse\",\"logistic\"]:\n",
    "    for rule_name in [\"0.3\",\"0.5\",\"0.7\"]:\n",
    "        run_cluster(rule_name,model_name_list,missingtype,real_datalist)\n"
   ]
  },
  {
   "cell_type": "code",
   "execution_count": 18,
   "metadata": {},
   "outputs": [
    {
     "name": "stderr",
     "output_type": "stream",
     "text": [
      "100%|██████████| 10/10 [00:01<00:00,  8.33it/s]\n",
      "100%|██████████| 10/10 [00:01<00:00,  6.16it/s]\n",
      "100%|██████████| 10/10 [00:01<00:00,  5.05it/s]\n",
      "100%|██████████| 10/10 [00:02<00:00,  3.97it/s]\n",
      "100%|██████████| 10/10 [00:02<00:00,  3.84it/s]\n",
      "100%|██████████| 10/10 [00:02<00:00,  3.71it/s]\n"
     ]
    }
   ],
   "source": [
    "for missingtype in [\"mar\",\"mcar\"]:\n",
    "    for rule_name in [\"0.3\",\"0.5\",\"0.7\"]:\n",
    "        run_cluster(rule_name,model_name_list,missingtype,real_datalist)"
   ]
  },
  {
   "cell_type": "code",
   "execution_count": 19,
   "metadata": {},
   "outputs": [
    {
     "name": "stderr",
     "output_type": "stream",
     "text": [
      "100%|██████████| 10/10 [00:03<00:00,  2.80it/s]\n",
      "100%|██████████| 10/10 [00:04<00:00,  2.09it/s]\n",
      "100%|██████████| 10/10 [00:05<00:00,  1.97it/s]\n"
     ]
    }
   ],
   "source": [
    "missingtype = \"quantile\"\n",
    "for rule_name in [\"Q1_Q4_0.5\",\"Q2_Q3_0.5\",\"Q2_Q4_0.5\"]:\n",
    "    run_cluster(rule_name,model_name_list,missingtype,real_datalist)"
   ]
  },
  {
   "cell_type": "code",
   "execution_count": 8,
   "metadata": {},
   "outputs": [],
   "source": [
    "def find_missing_column(mask):\n",
    "    columns_with_all_missing_values = []\n",
    "    #for column in mask.columns:\n",
    "    for column in range(mask.shape[1]):\n",
    "        if mask[:,column].any():\n",
    "            columns_with_all_missing_values.append(column)\n",
    "    return columns_with_all_missing_values\n",
    "\n",
    "\n"
   ]
  },
  {
   "cell_type": "code",
   "execution_count": 138,
   "metadata": {},
   "outputs": [
    {
     "name": "stderr",
     "output_type": "stream",
     "text": [
      "  0%|          | 0/1 [00:00<?, ?it/s]d:\\miniconda3\\envs\\py3.10\\lib\\site-packages\\scipy\\stats\\_stats_py.py:4424: ConstantInputWarning: An input array is constant; the correlation coefficient is not defined.\n",
      "  warnings.warn(stats.ConstantInputWarning(msg))\n",
      "100%|██████████| 1/1 [00:00<00:00, 135.22it/s]"
     ]
    },
    {
     "name": "stdout",
     "output_type": "stream",
     "text": [
      "[1]\n",
      "complete {0.5428574085235596, 1.0, 1.400000004814217e-09, 0.5, 0.6285713911056519, 0.22857172787189484, 0.5571429133415222, 0.785713791847229, 0.45714259147644043, 0.48571449518203735}\n",
      "impute {0.5428574085235596}\n",
      "\n",
      "mean [0]\n",
      "[1]\n",
      "complete {0.5, 0.785713791847229, 0.45714259147644043, 0.6285713911056519, 1.0, 0.22857172787189484, 1.400000004814217e-09, 0.5428574085235596, 0.5571429133415222, 0.48571449518203735}\n",
      "impute {0.5}\n",
      "\n",
      "mean [0]\n",
      "[1]\n",
      "complete {0.5428574085235596, 1.0, 1.400000004814217e-09, 0.5, 0.48571449518203735, 0.6285713911056519, 0.5571429133415222, 0.785713791847229, 0.22857172787189484, 0.45714259147644043}\n",
      "impute {0.5428574085235596}\n",
      "\n",
      "mean [0]\n",
      "[1]\n",
      "complete {1.400000004814217e-09, 1.0, 0.45714259147644043, 0.785713791847229, 0.5, 0.5428574085235596, 0.6285713911056519, 0.22857172787189484, 0.48571449518203735, 0.5571429133415222}\n",
      "impute {1.400000004814217e-09}\n",
      "\n",
      "mean [0]\n",
      "[1]\n",
      "complete {0.45714259147644043, 1.0, 1.400000004814217e-09, 0.5, 0.5571429133415222, 0.5428574085235596, 0.785713791847229, 0.6285713911056519, 0.48571449518203735, 0.22857172787189484}\n",
      "impute {0.45714259147644043}\n",
      "\n",
      "mean [0]\n",
      "{'yacht_hydrodynamics': {'hyper': 0.0}}\n"
     ]
    },
    {
     "name": "stderr",
     "output_type": "stream",
     "text": [
      "\n"
     ]
    }
   ],
   "source": [
    "model_name_list = [ \n",
    "                    \"hyper\", \n",
    "                   #\"mean\", \n",
    "                   ]\n",
    "\n",
    "real_datalist = [\"yacht_hydrodynamics\"]\n",
    "\n",
    "for missingtype in [\"mar\"]:\n",
    "    for rule_name in [\"0.3\"]:\n",
    "        run_cluster(rule_name,model_name_list,missingtype,real_datalist)"
   ]
  }
 ],
 "metadata": {
  "kernelspec": {
   "display_name": "Python 3",
   "language": "python",
   "name": "python3"
  },
  "language_info": {
   "codemirror_mode": {
    "name": "ipython",
    "version": 3
   },
   "file_extension": ".py",
   "mimetype": "text/x-python",
   "name": "python",
   "nbconvert_exporter": "python",
   "pygments_lexer": "ipython3",
   "version": "3.10.13"
  }
 },
 "nbformat": 4,
 "nbformat_minor": 2
}
